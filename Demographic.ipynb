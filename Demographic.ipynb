{
  "cells": [
    {
      "cell_type": "markdown",
      "metadata": {
        "id": "view-in-github",
        "colab_type": "text"
      },
      "source": [
        "<a href=\"https://colab.research.google.com/github/Bgisemba/NHANES-Data-Demographic-Analysis/blob/branch/Demographic.ipynb\" target=\"_parent\"><img src=\"https://colab.research.google.com/assets/colab-badge.svg\" alt=\"Open In Colab\"/></a>"
      ]
    },
    {
      "cell_type": "markdown",
      "id": "24d0d300-865a-4536-ab20-7e1eae456a62",
      "metadata": {
        "id": "24d0d300-865a-4536-ab20-7e1eae456a62"
      },
      "source": [
        "## Loading libraries"
      ]
    },
    {
      "cell_type": "code",
      "execution_count": null,
      "id": "ef1bebfb-25f9-4950-94ae-fdd6c3a51a52",
      "metadata": {
        "id": "ef1bebfb-25f9-4950-94ae-fdd6c3a51a52"
      },
      "outputs": [],
      "source": [
        "import pandas as pd\n",
        "import numpy as np\n",
        "import matplotlib.pyplot as plt\n",
        "import seaborn as sns"
      ]
    },
    {
      "cell_type": "code",
      "execution_count": null,
      "id": "a55f07a1-06ec-4671-89b9-8794bcfd0a3e",
      "metadata": {
        "id": "a55f07a1-06ec-4671-89b9-8794bcfd0a3e"
      },
      "outputs": [],
      "source": [
        "import warnings\n",
        "\n",
        "# Suppress all warnings\n",
        "warnings.filterwarnings(\"ignore\")"
      ]
    },
    {
      "cell_type": "markdown",
      "id": "06df0dee-35f5-41dc-8671-af89f39e76d0",
      "metadata": {
        "id": "06df0dee-35f5-41dc-8671-af89f39e76d0"
      },
      "source": [
        "## Loading the Dataset"
      ]
    },
    {
      "cell_type": "code",
      "execution_count": null,
      "id": "355708b1-6edd-4f96-b3d4-9f66ac487f57",
      "metadata": {
        "id": "355708b1-6edd-4f96-b3d4-9f66ac487f57",
        "outputId": "e44593d1-2ddd-43ed-ccbc-8f5b77c8980f"
      },
      "outputs": [
        {
          "data": {
            "text/html": [
              "<div>\n",
              "<style scoped>\n",
              "    .dataframe tbody tr th:only-of-type {\n",
              "        vertical-align: middle;\n",
              "    }\n",
              "\n",
              "    .dataframe tbody tr th {\n",
              "        vertical-align: top;\n",
              "    }\n",
              "\n",
              "    .dataframe thead th {\n",
              "        text-align: right;\n",
              "    }\n",
              "</style>\n",
              "<table border=\"1\" class=\"dataframe\">\n",
              "  <thead>\n",
              "    <tr style=\"text-align: right;\">\n",
              "      <th></th>\n",
              "      <th>SEQN</th>\n",
              "      <th>SDDSRVYR</th>\n",
              "      <th>RIDSTATR</th>\n",
              "      <th>RIAGENDR</th>\n",
              "      <th>RIDAGEYR</th>\n",
              "      <th>RIDAGEMN</th>\n",
              "      <th>RIDRETH1</th>\n",
              "      <th>RIDRETH3</th>\n",
              "      <th>RIDEXMON</th>\n",
              "      <th>DMDBORN4</th>\n",
              "      <th>...</th>\n",
              "      <th>FIAINTRP</th>\n",
              "      <th>MIALANG</th>\n",
              "      <th>MIAPROXY</th>\n",
              "      <th>MIAINTRP</th>\n",
              "      <th>AIALANGA</th>\n",
              "      <th>WTINTPRP</th>\n",
              "      <th>WTMECPRP</th>\n",
              "      <th>SDMVPSU</th>\n",
              "      <th>SDMVSTRA</th>\n",
              "      <th>INDFMPIR</th>\n",
              "    </tr>\n",
              "  </thead>\n",
              "  <tbody>\n",
              "    <tr>\n",
              "      <th>0</th>\n",
              "      <td>109263</td>\n",
              "      <td>66</td>\n",
              "      <td>2</td>\n",
              "      <td>1</td>\n",
              "      <td>2.0</td>\n",
              "      <td>NaN</td>\n",
              "      <td>5</td>\n",
              "      <td>6</td>\n",
              "      <td>2.0</td>\n",
              "      <td>1</td>\n",
              "      <td>...</td>\n",
              "      <td>2.0</td>\n",
              "      <td>NaN</td>\n",
              "      <td>NaN</td>\n",
              "      <td>NaN</td>\n",
              "      <td>NaN</td>\n",
              "      <td>7891.762435</td>\n",
              "      <td>8.951816e+03</td>\n",
              "      <td>3</td>\n",
              "      <td>156</td>\n",
              "      <td>4.66</td>\n",
              "    </tr>\n",
              "    <tr>\n",
              "      <th>1</th>\n",
              "      <td>109264</td>\n",
              "      <td>66</td>\n",
              "      <td>2</td>\n",
              "      <td>2</td>\n",
              "      <td>13.0</td>\n",
              "      <td>NaN</td>\n",
              "      <td>1</td>\n",
              "      <td>1</td>\n",
              "      <td>2.0</td>\n",
              "      <td>1</td>\n",
              "      <td>...</td>\n",
              "      <td>2.0</td>\n",
              "      <td>1.0</td>\n",
              "      <td>2.0</td>\n",
              "      <td>2.0</td>\n",
              "      <td>1.0</td>\n",
              "      <td>11689.747260</td>\n",
              "      <td>1.227116e+04</td>\n",
              "      <td>1</td>\n",
              "      <td>155</td>\n",
              "      <td>0.83</td>\n",
              "    </tr>\n",
              "    <tr>\n",
              "      <th>2</th>\n",
              "      <td>109265</td>\n",
              "      <td>66</td>\n",
              "      <td>2</td>\n",
              "      <td>1</td>\n",
              "      <td>2.0</td>\n",
              "      <td>NaN</td>\n",
              "      <td>3</td>\n",
              "      <td>3</td>\n",
              "      <td>2.0</td>\n",
              "      <td>1</td>\n",
              "      <td>...</td>\n",
              "      <td>2.0</td>\n",
              "      <td>NaN</td>\n",
              "      <td>NaN</td>\n",
              "      <td>NaN</td>\n",
              "      <td>NaN</td>\n",
              "      <td>16273.825940</td>\n",
              "      <td>1.665876e+04</td>\n",
              "      <td>1</td>\n",
              "      <td>157</td>\n",
              "      <td>3.06</td>\n",
              "    </tr>\n",
              "    <tr>\n",
              "      <th>3</th>\n",
              "      <td>109266</td>\n",
              "      <td>66</td>\n",
              "      <td>2</td>\n",
              "      <td>2</td>\n",
              "      <td>29.0</td>\n",
              "      <td>NaN</td>\n",
              "      <td>5</td>\n",
              "      <td>6</td>\n",
              "      <td>2.0</td>\n",
              "      <td>2</td>\n",
              "      <td>...</td>\n",
              "      <td>2.0</td>\n",
              "      <td>1.0</td>\n",
              "      <td>2.0</td>\n",
              "      <td>2.0</td>\n",
              "      <td>1.0</td>\n",
              "      <td>7825.646112</td>\n",
              "      <td>8.154968e+03</td>\n",
              "      <td>2</td>\n",
              "      <td>168</td>\n",
              "      <td>5.00</td>\n",
              "    </tr>\n",
              "    <tr>\n",
              "      <th>4</th>\n",
              "      <td>109267</td>\n",
              "      <td>66</td>\n",
              "      <td>1</td>\n",
              "      <td>2</td>\n",
              "      <td>21.0</td>\n",
              "      <td>NaN</td>\n",
              "      <td>2</td>\n",
              "      <td>2</td>\n",
              "      <td>NaN</td>\n",
              "      <td>2</td>\n",
              "      <td>...</td>\n",
              "      <td>2.0</td>\n",
              "      <td>NaN</td>\n",
              "      <td>NaN</td>\n",
              "      <td>NaN</td>\n",
              "      <td>NaN</td>\n",
              "      <td>26379.991720</td>\n",
              "      <td>5.400000e-79</td>\n",
              "      <td>1</td>\n",
              "      <td>156</td>\n",
              "      <td>5.00</td>\n",
              "    </tr>\n",
              "  </tbody>\n",
              "</table>\n",
              "<p>5 rows × 29 columns</p>\n",
              "</div>"
            ],
            "text/plain": [
              "     SEQN  SDDSRVYR  RIDSTATR  RIAGENDR  RIDAGEYR  RIDAGEMN  RIDRETH1  \\\n",
              "0  109263        66         2         1       2.0       NaN         5   \n",
              "1  109264        66         2         2      13.0       NaN         1   \n",
              "2  109265        66         2         1       2.0       NaN         3   \n",
              "3  109266        66         2         2      29.0       NaN         5   \n",
              "4  109267        66         1         2      21.0       NaN         2   \n",
              "\n",
              "   RIDRETH3  RIDEXMON  DMDBORN4  ...  FIAINTRP  MIALANG  MIAPROXY  MIAINTRP  \\\n",
              "0         6       2.0         1  ...       2.0      NaN       NaN       NaN   \n",
              "1         1       2.0         1  ...       2.0      1.0       2.0       2.0   \n",
              "2         3       2.0         1  ...       2.0      NaN       NaN       NaN   \n",
              "3         6       2.0         2  ...       2.0      1.0       2.0       2.0   \n",
              "4         2       NaN         2  ...       2.0      NaN       NaN       NaN   \n",
              "\n",
              "   AIALANGA      WTINTPRP      WTMECPRP  SDMVPSU  SDMVSTRA  INDFMPIR  \n",
              "0       NaN   7891.762435  8.951816e+03        3       156      4.66  \n",
              "1       1.0  11689.747260  1.227116e+04        1       155      0.83  \n",
              "2       NaN  16273.825940  1.665876e+04        1       157      3.06  \n",
              "3       1.0   7825.646112  8.154968e+03        2       168      5.00  \n",
              "4       NaN  26379.991720  5.400000e-79        1       156      5.00  \n",
              "\n",
              "[5 rows x 29 columns]"
            ]
          },
          "execution_count": 5,
          "metadata": {},
          "output_type": "execute_result"
        }
      ],
      "source": [
        "#loading and viewing the dataset\n",
        "demo=pd.read_csv(\"Dataset/Demo/demographics_dataset - demographics_dataset.csv\")\n",
        "demo.head()"
      ]
    },
    {
      "cell_type": "code",
      "execution_count": null,
      "id": "727f5815-650b-4825-9342-084cfc1193e3",
      "metadata": {
        "id": "727f5815-650b-4825-9342-084cfc1193e3",
        "outputId": "fa46afdd-3bc9-46be-e50a-4c73037f663c"
      },
      "outputs": [
        {
          "data": {
            "text/html": [
              "<div>\n",
              "<style scoped>\n",
              "    .dataframe tbody tr th:only-of-type {\n",
              "        vertical-align: middle;\n",
              "    }\n",
              "\n",
              "    .dataframe tbody tr th {\n",
              "        vertical-align: top;\n",
              "    }\n",
              "\n",
              "    .dataframe thead th {\n",
              "        text-align: right;\n",
              "    }\n",
              "</style>\n",
              "<table border=\"1\" class=\"dataframe\">\n",
              "  <thead>\n",
              "    <tr style=\"text-align: right;\">\n",
              "      <th></th>\n",
              "      <th>SEQN</th>\n",
              "      <th>RIAGENDR</th>\n",
              "      <th>RIDAGEYR</th>\n",
              "      <th>RIDRETH1</th>\n",
              "      <th>DMDBORN4</th>\n",
              "      <th>DMDYRUSZ</th>\n",
              "      <th>DMDEDUC2</th>\n",
              "      <th>DMDMARTZ</th>\n",
              "      <th>RIDEXPRG</th>\n",
              "      <th>INDFMPIR</th>\n",
              "    </tr>\n",
              "  </thead>\n",
              "  <tbody>\n",
              "    <tr>\n",
              "      <th>0</th>\n",
              "      <td>109263</td>\n",
              "      <td>1</td>\n",
              "      <td>2.0</td>\n",
              "      <td>5</td>\n",
              "      <td>1</td>\n",
              "      <td>NaN</td>\n",
              "      <td>NaN</td>\n",
              "      <td>NaN</td>\n",
              "      <td>NaN</td>\n",
              "      <td>4.66</td>\n",
              "    </tr>\n",
              "    <tr>\n",
              "      <th>1</th>\n",
              "      <td>109264</td>\n",
              "      <td>2</td>\n",
              "      <td>13.0</td>\n",
              "      <td>1</td>\n",
              "      <td>1</td>\n",
              "      <td>NaN</td>\n",
              "      <td>NaN</td>\n",
              "      <td>NaN</td>\n",
              "      <td>NaN</td>\n",
              "      <td>0.83</td>\n",
              "    </tr>\n",
              "    <tr>\n",
              "      <th>2</th>\n",
              "      <td>109265</td>\n",
              "      <td>1</td>\n",
              "      <td>2.0</td>\n",
              "      <td>3</td>\n",
              "      <td>1</td>\n",
              "      <td>NaN</td>\n",
              "      <td>NaN</td>\n",
              "      <td>NaN</td>\n",
              "      <td>NaN</td>\n",
              "      <td>3.06</td>\n",
              "    </tr>\n",
              "    <tr>\n",
              "      <th>3</th>\n",
              "      <td>109266</td>\n",
              "      <td>2</td>\n",
              "      <td>29.0</td>\n",
              "      <td>5</td>\n",
              "      <td>2</td>\n",
              "      <td>2.0</td>\n",
              "      <td>5.0</td>\n",
              "      <td>3.0</td>\n",
              "      <td>2.0</td>\n",
              "      <td>5.00</td>\n",
              "    </tr>\n",
              "    <tr>\n",
              "      <th>4</th>\n",
              "      <td>109267</td>\n",
              "      <td>2</td>\n",
              "      <td>21.0</td>\n",
              "      <td>2</td>\n",
              "      <td>2</td>\n",
              "      <td>3.0</td>\n",
              "      <td>4.0</td>\n",
              "      <td>3.0</td>\n",
              "      <td>3.0</td>\n",
              "      <td>5.00</td>\n",
              "    </tr>\n",
              "  </tbody>\n",
              "</table>\n",
              "</div>"
            ],
            "text/plain": [
              "     SEQN  RIAGENDR  RIDAGEYR  RIDRETH1  DMDBORN4  DMDYRUSZ  DMDEDUC2  \\\n",
              "0  109263         1       2.0         5         1       NaN       NaN   \n",
              "1  109264         2      13.0         1         1       NaN       NaN   \n",
              "2  109265         1       2.0         3         1       NaN       NaN   \n",
              "3  109266         2      29.0         5         2       2.0       5.0   \n",
              "4  109267         2      21.0         2         2       3.0       4.0   \n",
              "\n",
              "   DMDMARTZ  RIDEXPRG  INDFMPIR  \n",
              "0       NaN       NaN      4.66  \n",
              "1       NaN       NaN      0.83  \n",
              "2       NaN       NaN      3.06  \n",
              "3       3.0       2.0      5.00  \n",
              "4       3.0       3.0      5.00  "
            ]
          },
          "execution_count": 6,
          "metadata": {},
          "output_type": "execute_result"
        }
      ],
      "source": [
        "#Selecting the relevant variables\n",
        "demo_new=demo[['SEQN','RIAGENDR','RIDAGEYR','RIDRETH1','DMDBORN4','DMDYRUSZ','DMDEDUC2','DMDMARTZ','RIDEXPRG','INDFMPIR']]\n",
        "demo_new.head()"
      ]
    },
    {
      "cell_type": "code",
      "execution_count": null,
      "id": "b5906527-0484-441f-8917-e834517cfb94",
      "metadata": {
        "id": "b5906527-0484-441f-8917-e834517cfb94"
      },
      "outputs": [],
      "source": [
        "# dropping the SEQ column as it is just a sequence counter.\n",
        "\n",
        "demo_new.drop(columns='SEQN',  inplace= True)"
      ]
    },
    {
      "cell_type": "code",
      "execution_count": null,
      "id": "f5af96b1-01de-4cb8-91d2-5c637db0e52d",
      "metadata": {
        "id": "f5af96b1-01de-4cb8-91d2-5c637db0e52d",
        "outputId": "878d382a-6449-43f1-8d59-7f5084cc6e61"
      },
      "outputs": [
        {
          "data": {
            "text/plain": [
              "(15560, 9)"
            ]
          },
          "execution_count": 8,
          "metadata": {},
          "output_type": "execute_result"
        }
      ],
      "source": [
        "#checking the no of records\n",
        "demo_new.shape"
      ]
    },
    {
      "cell_type": "code",
      "execution_count": null,
      "id": "abd2ebc1-a9bc-4004-a0b9-30abc2bd2ff3",
      "metadata": {
        "id": "abd2ebc1-a9bc-4004-a0b9-30abc2bd2ff3",
        "outputId": "f09c2628-f190-453f-f090-cc38a4d5b051"
      },
      "outputs": [
        {
          "name": "stdout",
          "output_type": "stream",
          "text": [
            "<class 'pandas.core.frame.DataFrame'>\n",
            "RangeIndex: 15560 entries, 0 to 15559\n",
            "Data columns (total 9 columns):\n",
            " #   Column    Non-Null Count  Dtype  \n",
            "---  ------    --------------  -----  \n",
            " 0   RIAGENDR  15560 non-null  int64  \n",
            " 1   RIDAGEYR  15560 non-null  float64\n",
            " 2   RIDRETH1  15560 non-null  int64  \n",
            " 3   DMDBORN4  15560 non-null  int64  \n",
            " 4   DMDYRUSZ  3028 non-null   float64\n",
            " 5   DMDEDUC2  9232 non-null   float64\n",
            " 6   DMDMARTZ  9232 non-null   float64\n",
            " 7   RIDEXPRG  1874 non-null   float64\n",
            " 8   INDFMPIR  13359 non-null  float64\n",
            "dtypes: float64(6), int64(3)\n",
            "memory usage: 1.1 MB\n"
          ]
        }
      ],
      "source": [
        "#checking the data types\n",
        "demo_new.info()"
      ]
    },
    {
      "cell_type": "markdown",
      "id": "0100bd81-8ae7-40d1-9a70-bd68a1057a61",
      "metadata": {
        "id": "0100bd81-8ae7-40d1-9a70-bd68a1057a61"
      },
      "source": [
        "## Data Cleaning"
      ]
    },
    {
      "cell_type": "code",
      "execution_count": null,
      "id": "2331f999-7619-4e5a-8483-3f0ee96bc62b",
      "metadata": {
        "id": "2331f999-7619-4e5a-8483-3f0ee96bc62b",
        "outputId": "dd596801-b0ad-4a75-bd42-b1d8aa7b09eb"
      },
      "outputs": [
        {
          "data": {
            "text/plain": [
              "RIAGENDR        0\n",
              "RIDAGEYR        0\n",
              "RIDRETH1        0\n",
              "DMDBORN4        0\n",
              "DMDYRUSZ    12532\n",
              "DMDEDUC2     6328\n",
              "DMDMARTZ     6328\n",
              "RIDEXPRG    13686\n",
              "INDFMPIR     2201\n",
              "dtype: int64"
            ]
          },
          "execution_count": 11,
          "metadata": {},
          "output_type": "execute_result"
        }
      ],
      "source": [
        "#checking for missing values\n",
        "demo_new.isnull().sum()"
      ]
    },
    {
      "cell_type": "code",
      "execution_count": null,
      "id": "4b4a3cb7-30f1-4b7a-952d-2ac2a1fc472b",
      "metadata": {
        "id": "4b4a3cb7-30f1-4b7a-952d-2ac2a1fc472b",
        "outputId": "559185c2-7d2a-43b3-f49e-5705ffa1838c"
      },
      "outputs": [
        {
          "data": {
            "text/plain": [
              "RIAGENDR       0\n",
              "RIDAGEYR       0\n",
              "RIDRETH1       0\n",
              "DMDBORN4       0\n",
              "DMDYRUSZ    6954\n",
              "DMDEDUC2     461\n",
              "DMDMARTZ     461\n",
              "RIDEXPRG    7819\n",
              "INDFMPIR    1481\n",
              "dtype: int64"
            ]
          },
          "execution_count": 37,
          "metadata": {},
          "output_type": "execute_result"
        }
      ],
      "source": [
        "#dropping respondents with age less than 18 to see if it afftects the missing values\n",
        "demo_new=demo_new[demo_new['RIDAGEYR'] >= 18]\n",
        "demo_new.isnull().sum()"
      ]
    },
    {
      "cell_type": "markdown",
      "id": "0d1f891b-0b27-4454-817f-6f9168961f8d",
      "metadata": {
        "id": "0d1f891b-0b27-4454-817f-6f9168961f8d"
      },
      "source": [
        "Dropping the respondenets below 18 years has an effetct"
      ]
    },
    {
      "cell_type": "code",
      "execution_count": null,
      "id": "64ea5d91-5cf7-4193-8fe1-3f4158683c31",
      "metadata": {
        "id": "64ea5d91-5cf7-4193-8fe1-3f4158683c31",
        "outputId": "128ec6bf-d7ba-493b-b300-7ec86a8a6a50"
      },
      "outputs": [
        {
          "name": "stdout",
          "output_type": "stream",
          "text": [
            "DMDYRUSZ    71.742495\n",
            "DMDEDUC2     4.756009\n",
            "DMDMARTZ     4.756009\n",
            "RIDEXPRG    80.666460\n",
            "INDFMPIR    15.279067\n",
            "dtype: float64\n"
          ]
        }
      ],
      "source": [
        "#Calculate percentage of missing values\n",
        "missing_percent = demo_new.isnull().mean() * 100\n",
        "\n",
        "missing_percent = missing_percent[missing_percent > 0]\n",
        "\n",
        "# Display missing percentages per column\n",
        "print(missing_percent)"
      ]
    },
    {
      "cell_type": "markdown",
      "id": "55b859c3-6883-46c7-9168-e8956f22315d",
      "metadata": {
        "id": "55b859c3-6883-46c7-9168-e8956f22315d"
      },
      "source": [
        "Dropping columns with more than 50% missing data because they may lack sufficient information to be useful.\n",
        "For columns with less than 20% missing data we will impute the missing values rather than dropping the column."
      ]
    },
    {
      "cell_type": "code",
      "execution_count": null,
      "id": "1926d862-44ca-40d3-90c7-1d5b28fc3e58",
      "metadata": {
        "id": "1926d862-44ca-40d3-90c7-1d5b28fc3e58",
        "outputId": "0e5ff1b5-d41a-4af3-90dd-94bbb58d571e"
      },
      "outputs": [
        {
          "data": {
            "text/plain": [
              "DMDYRUSZ    71.742495\n",
              "RIDEXPRG    80.666460\n",
              "dtype: float64"
            ]
          },
          "execution_count": 44,
          "metadata": {},
          "output_type": "execute_result"
        }
      ],
      "source": [
        "# Filter columns where the percentage of missing values is greater than 50\n",
        "columns_with_high_missing = missing_percent[missing_percent > 50]\n",
        "columns_with_high_missing\n"
      ]
    },
    {
      "cell_type": "code",
      "execution_count": null,
      "id": "c7aa6bee-bf93-435a-a67a-71f874622dea",
      "metadata": {
        "id": "c7aa6bee-bf93-435a-a67a-71f874622dea"
      },
      "outputs": [],
      "source": [
        "#Dropping nan columns where is higher than 50% nan\n",
        "demo_new= demo_new.drop(columns_with_high_missing.index,axis=1)"
      ]
    },
    {
      "cell_type": "code",
      "execution_count": null,
      "id": "2e4d228b-f99a-4404-b1c5-3409bd627488",
      "metadata": {
        "id": "2e4d228b-f99a-4404-b1c5-3409bd627488",
        "outputId": "a7b2f72f-6481-425b-e23c-53c84403fe70"
      },
      "outputs": [
        {
          "data": {
            "text/plain": [
              "RIAGENDR       0\n",
              "RIDAGEYR       0\n",
              "RIDRETH1       0\n",
              "DMDBORN4       0\n",
              "DMDEDUC2     461\n",
              "DMDMARTZ     461\n",
              "INDFMPIR    1481\n",
              "dtype: int64"
            ]
          },
          "execution_count": 50,
          "metadata": {},
          "output_type": "execute_result"
        }
      ],
      "source": [
        "demo_new.isnull().sum()"
      ]
    },
    {
      "cell_type": "code",
      "execution_count": null,
      "id": "f13c644f-897e-4d1d-a97c-ede14bb95ead",
      "metadata": {
        "id": "f13c644f-897e-4d1d-a97c-ede14bb95ead"
      },
      "outputs": [],
      "source": [
        "#Inputing the missing values of the categorical variable using the mode\n",
        "demo_new['DMDEDUC2'].fillna(demo_new['DMDEDUC2'].mode()[0], inplace=True)\n",
        "demo_new['DMDMARTZ'].fillna(demo_new['DMDMARTZ'].mode()[0], inplace=True)"
      ]
    },
    {
      "cell_type": "code",
      "execution_count": null,
      "id": "b26879f9-9e78-4dae-8b26-e812250061ba",
      "metadata": {
        "id": "b26879f9-9e78-4dae-8b26-e812250061ba",
        "outputId": "a38b0055-ca39-481e-e30c-849bf15da0a2"
      },
      "outputs": [
        {
          "name": "stdout",
          "output_type": "stream",
          "text": [
            "Skewness of INDFMPIR: 0.29444889250242473\n"
          ]
        }
      ],
      "source": [
        "# for the continuous variable INDFMPIR we need to check the skewness and find out if there is any outliers to be able to choose the best way to input\n",
        "Skewness = demo_new['INDFMPIR'].skew()\n",
        "print(\"Skewness of INDFMPIR:\", Skewness)\n"
      ]
    },
    {
      "cell_type": "code",
      "execution_count": null,
      "id": "f2772db3-06ae-46a8-bd25-c41e22a2c0e9",
      "metadata": {
        "id": "f2772db3-06ae-46a8-bd25-c41e22a2c0e9",
        "outputId": "51a07435-5fde-4857-c918-794d2e7fb604"
      },
      "outputs": [
        {
          "data": {
            "image/png": "[encoded data removed]",
            "text/plain": [
              "<Figure size 640x480 with 1 Axes>"
            ]
          },
          "metadata": {},
          "output_type": "display_data"
        }
      ],
      "source": [
        "demo_new['INDFMPIR'].hist(bins=30)\n",
        "plt.show()"
      ]
    },
    {
      "cell_type": "code",
      "execution_count": null,
      "id": "88734472-234a-4a0b-a7ad-f80e81440142",
      "metadata": {
        "id": "88734472-234a-4a0b-a7ad-f80e81440142",
        "outputId": "ea4dcdd4-7c68-4910-bea8-087768bede54"
      },
      "outputs": [
        {
          "data": {
            "image/png": "[encoded data removed]",
            "text/plain": [
              "<Figure size 640x480 with 1 Axes>"
            ]
          },
          "metadata": {},
          "output_type": "display_data"
        }
      ],
      "source": [
        "#checking for outliers\n",
        "import seaborn as sns\n",
        "import matplotlib.pyplot as plt\n",
        "\n",
        "sns.boxplot(data=demo_new['INDFMPIR'])\n",
        "plt.show()"
      ]
    },
    {
      "cell_type": "markdown",
      "id": "b9988daa-477d-411f-9b5e-32b59470cc26",
      "metadata": {
        "id": "b9988daa-477d-411f-9b5e-32b59470cc26"
      },
      "source": [
        "Since the skewness is minimal, the mean is representative of the dataset"
      ]
    },
    {
      "cell_type": "code",
      "execution_count": null,
      "id": "bbd45df3-2140-41c4-aaef-94e16933a8c3",
      "metadata": {
        "id": "bbd45df3-2140-41c4-aaef-94e16933a8c3"
      },
      "outputs": [],
      "source": [
        "#inputing the missing values using the mean\n",
        "demo_new['INDFMPIR'] = demo_new['INDFMPIR'].fillna(demo_new['INDFMPIR'].mean())"
      ]
    },
    {
      "cell_type": "code",
      "execution_count": null,
      "id": "d8fd72f3-2af0-434c-ae59-aac483f21156",
      "metadata": {
        "id": "d8fd72f3-2af0-434c-ae59-aac483f21156",
        "outputId": "6cd6e44e-3bd2-48fc-d60b-ca52c3bedcc2"
      },
      "outputs": [
        {
          "data": {
            "text/plain": [
              "RIAGENDR    0\n",
              "RIDAGEYR    0\n",
              "RIDRETH1    0\n",
              "DMDBORN4    0\n",
              "DMDEDUC2    0\n",
              "DMDMARTZ    0\n",
              "INDFMPIR    0\n",
              "dtype: int64"
            ]
          },
          "execution_count": 66,
          "metadata": {},
          "output_type": "execute_result"
        }
      ],
      "source": [
        "demo_new.isnull().sum()"
      ]
    },
    {
      "cell_type": "markdown",
      "id": "e2d121c1-5d61-4456-ad89-5f62e2f55526",
      "metadata": {
        "id": "e2d121c1-5d61-4456-ad89-5f62e2f55526"
      },
      "source": [
        "## Faeture Engineering"
      ]
    },
    {
      "cell_type": "code",
      "execution_count": null,
      "id": "cb22bccc-4cbc-4543-8b7f-83ae6bd877ed",
      "metadata": {
        "id": "cb22bccc-4cbc-4543-8b7f-83ae6bd877ed",
        "outputId": "276c9576-2e5b-4032-f148-e96ac3e7ecd6"
      },
      "outputs": [
        {
          "data": {
            "text/plain": [
              "RIAGENDR\n",
              "2    4975\n",
              "1    4718\n",
              "Name: count, dtype: int64"
            ]
          },
          "execution_count": 68,
          "metadata": {},
          "output_type": "execute_result"
        }
      ],
      "source": [
        "#Gender\n",
        "demo_new['RIAGENDR'].value_counts()"
      ]
    },
    {
      "cell_type": "code",
      "execution_count": null,
      "id": "5bd44fce-2b22-451f-922e-353b15bd1a18",
      "metadata": {
        "id": "5bd44fce-2b22-451f-922e-353b15bd1a18"
      },
      "outputs": [],
      "source": [
        "#encoding gender\n",
        "demo_new['GENDER'] = demo_new['RIAGENDR'].map({1: 'Male', 2: 'Female'})"
      ]
    },
    {
      "cell_type": "code",
      "execution_count": null,
      "id": "588c5ad8-7e0e-4945-8a6a-f62d7c5f9862",
      "metadata": {
        "id": "588c5ad8-7e0e-4945-8a6a-f62d7c5f9862",
        "outputId": "4ef7ee26-d4fc-4e68-8720-b5983a3962e1"
      },
      "outputs": [
        {
          "data": {
            "image/png": "[encoded data removed]",
            "text/plain": [
              "<Figure size 600x600 with 1 Axes>"
            ]
          },
          "metadata": {},
          "output_type": "display_data"
        }
      ],
      "source": [
        "# Count the occurrences of each gender\n",
        "gender_counts = demo_new['GENDER'] .value_counts()\n",
        "\n",
        "# Plot pie chart\n",
        "plt.figure(figsize=(6, 6))\n",
        "plt.pie(gender_counts, labels=gender_counts.index, autopct='%1.1f%%', startangle=140, colors=['skyblue', 'lightcoral'])\n",
        "plt.title(\"Gender Distribution\")\n",
        "plt.show()"
      ]
    },
    {
      "cell_type": "markdown",
      "id": "22ec11da-3d27-4848-bb29-9b04d954e25b",
      "metadata": {
        "id": "22ec11da-3d27-4848-bb29-9b04d954e25b"
      },
      "source": [
        "7721 Males\n",
        "7839 Females"
      ]
    },
    {
      "cell_type": "code",
      "execution_count": null,
      "id": "e9debb84-c8c2-4481-bb15-ebaeacaffd8a",
      "metadata": {
        "id": "e9debb84-c8c2-4481-bb15-ebaeacaffd8a",
        "outputId": "ed848d2d-8393-4775-cef8-1099b6e5ee7b"
      },
      "outputs": [
        {
          "data": {
            "text/plain": [
              "RIDAGEYR\n",
              "80.0    682\n",
              "18.0    234\n",
              "60.0    232\n",
              "19.0    227\n",
              "61.0    208\n",
              "       ... \n",
              "75.0     94\n",
              "77.0     81\n",
              "76.0     76\n",
              "79.0     69\n",
              "78.0     69\n",
              "Name: count, Length: 63, dtype: int64"
            ]
          },
          "execution_count": 72,
          "metadata": {},
          "output_type": "execute_result"
        }
      ],
      "source": [
        "#age\n",
        "demo_new['RIDAGEYR'].value_counts()"
      ]
    },
    {
      "cell_type": "code",
      "execution_count": null,
      "id": "16687865-eb82-468e-8efa-7cecebd2415b",
      "metadata": {
        "id": "16687865-eb82-468e-8efa-7cecebd2415b",
        "outputId": "8db806fb-adaa-4657-dfd3-d6037b64f0b7"
      },
      "outputs": [
        {
          "data": {
            "image/png": "[encoded data removed]",
            "text/plain": [
              "<Figure size 800x600 with 1 Axes>"
            ]
          },
          "metadata": {},
          "output_type": "display_data"
        }
      ],
      "source": [
        "\n",
        "\n",
        "# Plotting the distribution of ages before grouping\n",
        "plt.figure(figsize=(8, 6))\n",
        "plt.hist(demo_new['RIDAGEYR'], bins=range(0, 101, 10), edgecolor='black', color='skyblue')\n",
        "plt.title(\"Age Distribution Before Grouping\")\n",
        "plt.xlabel(\"Age\")\n",
        "plt.ylabel(\"Frequency\")\n",
        "plt.show()\n"
      ]
    },
    {
      "cell_type": "code",
      "execution_count": null,
      "id": "98caf5d4-7715-4a90-b27c-4b8394dc106b",
      "metadata": {
        "id": "98caf5d4-7715-4a90-b27c-4b8394dc106b",
        "outputId": "90685e1e-7f54-4aa0-c785-3007e17bc657"
      },
      "outputs": [
        {
          "name": "stdout",
          "output_type": "stream",
          "text": [
            "\n",
            "Age Group Counts:\n",
            "age_group\n",
            "18-39    3026\n",
            "40-59    3011\n",
            "60-79    2740\n",
            "80+       682\n",
            "Name: count, dtype: int64\n"
          ]
        },
        {
          "data": {
            "image/png": "[encoded data removed]",
            "text/plain": [
              "<Figure size 800x600 with 1 Axes>"
            ]
          },
          "metadata": {},
          "output_type": "display_data"
        }
      ],
      "source": [
        "# Define new age bins and labels for grouping\n",
        "bins = [18, 39, 59, 79, float('inf')]  # Starting at 18\n",
        "labels = [\"18-39\", \"40-59\", \"60-79\", \"80+\"]\n",
        "\n",
        "# Grouping ages into defined categories\n",
        "demo_new['age_group'] = pd.cut(demo_new['RIDAGEYR'], bins=bins, labels=labels, right=True)\n",
        "\n",
        "# Display the grouped dataset\n",
        "#print(\"Dataset with Age Groups:\")\n",
        "#print(df)\n",
        "\n",
        "# Display count of each age group\n",
        "age_group_counts = demo_new['age_group'].value_counts().sort_index()\n",
        "print(\"\\nAge Group Counts:\")\n",
        "print(age_group_counts)\n",
        "\n",
        "# Plotting the grouped age distribution\n",
        "plt.figure(figsize=(8, 6))\n",
        "age_group_counts.plot(kind='bar', color='lightcoral', edgecolor='black')\n",
        "plt.title(\"Age Group Distribution After Grouping\")\n",
        "plt.xlabel(\"Age Group\")\n",
        "plt.ylabel(\"Frequency\")\n",
        "plt.show()"
      ]
    },
    {
      "cell_type": "code",
      "execution_count": null,
      "id": "c46af831-16b2-4224-ab46-6b2914bf512c",
      "metadata": {
        "id": "c46af831-16b2-4224-ab46-6b2914bf512c",
        "outputId": "0c554197-b278-4d59-9c0c-80e481e45238"
      },
      "outputs": [
        {
          "data": {
            "text/html": [
              "<div>\n",
              "<style scoped>\n",
              "    .dataframe tbody tr th:only-of-type {\n",
              "        vertical-align: middle;\n",
              "    }\n",
              "\n",
              "    .dataframe tbody tr th {\n",
              "        vertical-align: top;\n",
              "    }\n",
              "\n",
              "    .dataframe thead th {\n",
              "        text-align: right;\n",
              "    }\n",
              "</style>\n",
              "<table border=\"1\" class=\"dataframe\">\n",
              "  <thead>\n",
              "    <tr style=\"text-align: right;\">\n",
              "      <th></th>\n",
              "      <th>RIAGENDR</th>\n",
              "      <th>RIDAGEYR</th>\n",
              "      <th>RIDRETH1</th>\n",
              "      <th>DMDBORN4</th>\n",
              "      <th>DMDEDUC2</th>\n",
              "      <th>DMDMARTZ</th>\n",
              "      <th>INDFMPIR</th>\n",
              "      <th>GENDER</th>\n",
              "      <th>age_group</th>\n",
              "    </tr>\n",
              "  </thead>\n",
              "  <tbody>\n",
              "    <tr>\n",
              "      <th>3</th>\n",
              "      <td>2</td>\n",
              "      <td>29.0</td>\n",
              "      <td>5</td>\n",
              "      <td>2</td>\n",
              "      <td>5.0</td>\n",
              "      <td>3.0</td>\n",
              "      <td>5.000000</td>\n",
              "      <td>Female</td>\n",
              "      <td>18-39</td>\n",
              "    </tr>\n",
              "    <tr>\n",
              "      <th>4</th>\n",
              "      <td>2</td>\n",
              "      <td>21.0</td>\n",
              "      <td>2</td>\n",
              "      <td>2</td>\n",
              "      <td>4.0</td>\n",
              "      <td>3.0</td>\n",
              "      <td>5.000000</td>\n",
              "      <td>Female</td>\n",
              "      <td>18-39</td>\n",
              "    </tr>\n",
              "    <tr>\n",
              "      <th>5</th>\n",
              "      <td>2</td>\n",
              "      <td>18.0</td>\n",
              "      <td>3</td>\n",
              "      <td>1</td>\n",
              "      <td>4.0</td>\n",
              "      <td>1.0</td>\n",
              "      <td>1.660000</td>\n",
              "      <td>Female</td>\n",
              "      <td>NaN</td>\n",
              "    </tr>\n",
              "    <tr>\n",
              "      <th>8</th>\n",
              "      <td>1</td>\n",
              "      <td>49.0</td>\n",
              "      <td>3</td>\n",
              "      <td>1</td>\n",
              "      <td>2.0</td>\n",
              "      <td>3.0</td>\n",
              "      <td>2.567789</td>\n",
              "      <td>Male</td>\n",
              "      <td>40-59</td>\n",
              "    </tr>\n",
              "    <tr>\n",
              "      <th>10</th>\n",
              "      <td>1</td>\n",
              "      <td>36.0</td>\n",
              "      <td>3</td>\n",
              "      <td>1</td>\n",
              "      <td>4.0</td>\n",
              "      <td>3.0</td>\n",
              "      <td>0.830000</td>\n",
              "      <td>Male</td>\n",
              "      <td>18-39</td>\n",
              "    </tr>\n",
              "  </tbody>\n",
              "</table>\n",
              "</div>"
            ],
            "text/plain": [
              "    RIAGENDR  RIDAGEYR  RIDRETH1  DMDBORN4  DMDEDUC2  DMDMARTZ  INDFMPIR  \\\n",
              "3          2      29.0         5         2       5.0       3.0  5.000000   \n",
              "4          2      21.0         2         2       4.0       3.0  5.000000   \n",
              "5          2      18.0         3         1       4.0       1.0  1.660000   \n",
              "8          1      49.0         3         1       2.0       3.0  2.567789   \n",
              "10         1      36.0         3         1       4.0       3.0  0.830000   \n",
              "\n",
              "    GENDER age_group  \n",
              "3   Female     18-39  \n",
              "4   Female     18-39  \n",
              "5   Female       NaN  \n",
              "8     Male     40-59  \n",
              "10    Male     18-39  "
            ]
          },
          "execution_count": 75,
          "metadata": {},
          "output_type": "execute_result"
        }
      ],
      "source": [
        "demo_new.head()"
      ]
    },
    {
      "cell_type": "code",
      "execution_count": null,
      "id": "c8ef8d23-9c48-43ba-8dd9-222a3411fb4c",
      "metadata": {
        "id": "c8ef8d23-9c48-43ba-8dd9-222a3411fb4c",
        "outputId": "fd53bad8-fac4-4479-c4d1-5b953b3a91b2"
      },
      "outputs": [
        {
          "data": {
            "text/plain": [
              "age_group\n",
              "18-39    3026\n",
              "40-59    3011\n",
              "60-79    2740\n",
              "80+       682\n",
              "Name: count, dtype: int64"
            ]
          },
          "execution_count": 76,
          "metadata": {},
          "output_type": "execute_result"
        }
      ],
      "source": [
        "demo_new['age_group'].value_counts()"
      ]
    },
    {
      "cell_type": "code",
      "execution_count": null,
      "id": "4ae01c12-7d45-4ffb-8348-636875846c44",
      "metadata": {
        "id": "4ae01c12-7d45-4ffb-8348-636875846c44"
      },
      "outputs": [],
      "source": [
        "# Encode Race/Ethnicity\n",
        "\n",
        "demo_new['RACE_ETHNICITY'] = demo_new['RIDRETH1'].map({\n",
        "    1: 'Mexican American', 2: 'Other Hispanic', 3: 'Non-Hispanic White',\n",
        "    4: 'Non-Hispanic Black', 5: 'Other Race'\n",
        "})"
      ]
    },
    {
      "cell_type": "code",
      "execution_count": null,
      "id": "f453f3eb-b707-4591-9c1d-69ce3df9c6f9",
      "metadata": {
        "id": "f453f3eb-b707-4591-9c1d-69ce3df9c6f9",
        "outputId": "6d826c40-2a77-4301-ec17-29a691142db2"
      },
      "outputs": [
        {
          "data": {
            "text/html": [
              "<div>\n",
              "<style scoped>\n",
              "    .dataframe tbody tr th:only-of-type {\n",
              "        vertical-align: middle;\n",
              "    }\n",
              "\n",
              "    .dataframe tbody tr th {\n",
              "        vertical-align: top;\n",
              "    }\n",
              "\n",
              "    .dataframe thead th {\n",
              "        text-align: right;\n",
              "    }\n",
              "</style>\n",
              "<table border=\"1\" class=\"dataframe\">\n",
              "  <thead>\n",
              "    <tr style=\"text-align: right;\">\n",
              "      <th></th>\n",
              "      <th>RIAGENDR</th>\n",
              "      <th>RIDAGEYR</th>\n",
              "      <th>RIDRETH1</th>\n",
              "      <th>DMDBORN4</th>\n",
              "      <th>DMDEDUC2</th>\n",
              "      <th>DMDMARTZ</th>\n",
              "      <th>INDFMPIR</th>\n",
              "      <th>GENDER</th>\n",
              "      <th>age_group</th>\n",
              "      <th>RACE_ETHNICITY</th>\n",
              "    </tr>\n",
              "  </thead>\n",
              "  <tbody>\n",
              "    <tr>\n",
              "      <th>3</th>\n",
              "      <td>2</td>\n",
              "      <td>29.0</td>\n",
              "      <td>5</td>\n",
              "      <td>2</td>\n",
              "      <td>5.0</td>\n",
              "      <td>3.0</td>\n",
              "      <td>5.000000</td>\n",
              "      <td>Female</td>\n",
              "      <td>18-39</td>\n",
              "      <td>Other Race</td>\n",
              "    </tr>\n",
              "    <tr>\n",
              "      <th>4</th>\n",
              "      <td>2</td>\n",
              "      <td>21.0</td>\n",
              "      <td>2</td>\n",
              "      <td>2</td>\n",
              "      <td>4.0</td>\n",
              "      <td>3.0</td>\n",
              "      <td>5.000000</td>\n",
              "      <td>Female</td>\n",
              "      <td>18-39</td>\n",
              "      <td>Other Hispanic</td>\n",
              "    </tr>\n",
              "    <tr>\n",
              "      <th>5</th>\n",
              "      <td>2</td>\n",
              "      <td>18.0</td>\n",
              "      <td>3</td>\n",
              "      <td>1</td>\n",
              "      <td>4.0</td>\n",
              "      <td>1.0</td>\n",
              "      <td>1.660000</td>\n",
              "      <td>Female</td>\n",
              "      <td>NaN</td>\n",
              "      <td>Non-Hispanic White</td>\n",
              "    </tr>\n",
              "    <tr>\n",
              "      <th>8</th>\n",
              "      <td>1</td>\n",
              "      <td>49.0</td>\n",
              "      <td>3</td>\n",
              "      <td>1</td>\n",
              "      <td>2.0</td>\n",
              "      <td>3.0</td>\n",
              "      <td>2.567789</td>\n",
              "      <td>Male</td>\n",
              "      <td>40-59</td>\n",
              "      <td>Non-Hispanic White</td>\n",
              "    </tr>\n",
              "    <tr>\n",
              "      <th>10</th>\n",
              "      <td>1</td>\n",
              "      <td>36.0</td>\n",
              "      <td>3</td>\n",
              "      <td>1</td>\n",
              "      <td>4.0</td>\n",
              "      <td>3.0</td>\n",
              "      <td>0.830000</td>\n",
              "      <td>Male</td>\n",
              "      <td>18-39</td>\n",
              "      <td>Non-Hispanic White</td>\n",
              "    </tr>\n",
              "  </tbody>\n",
              "</table>\n",
              "</div>"
            ],
            "text/plain": [
              "    RIAGENDR  RIDAGEYR  RIDRETH1  DMDBORN4  DMDEDUC2  DMDMARTZ  INDFMPIR  \\\n",
              "3          2      29.0         5         2       5.0       3.0  5.000000   \n",
              "4          2      21.0         2         2       4.0       3.0  5.000000   \n",
              "5          2      18.0         3         1       4.0       1.0  1.660000   \n",
              "8          1      49.0         3         1       2.0       3.0  2.567789   \n",
              "10         1      36.0         3         1       4.0       3.0  0.830000   \n",
              "\n",
              "    GENDER age_group      RACE_ETHNICITY  \n",
              "3   Female     18-39          Other Race  \n",
              "4   Female     18-39      Other Hispanic  \n",
              "5   Female       NaN  Non-Hispanic White  \n",
              "8     Male     40-59  Non-Hispanic White  \n",
              "10    Male     18-39  Non-Hispanic White  "
            ]
          },
          "execution_count": 78,
          "metadata": {},
          "output_type": "execute_result"
        }
      ],
      "source": [
        "demo_new.head()"
      ]
    },
    {
      "cell_type": "code",
      "execution_count": null,
      "id": "9258326a-53a7-44c1-acd6-c9b5c648c332",
      "metadata": {
        "id": "9258326a-53a7-44c1-acd6-c9b5c648c332",
        "outputId": "0d5864bd-4dc6-4a31-8cff-2d271211a31c"
      },
      "outputs": [
        {
          "data": {
            "image/png": "[encoded data removed]",
            "text/plain": [
              "<Figure size 800x600 with 1 Axes>"
            ]
          },
          "metadata": {},
          "output_type": "display_data"
        }
      ],
      "source": [
        "# Count the occurrences of each race/ethnicity\n",
        "race_ethnicity_counts = demo_new['RACE_ETHNICITY'].value_counts()\n",
        "\n",
        "# Plot bar chart\n",
        "plt.figure(figsize=(8, 6))\n",
        "race_ethnicity_counts.plot(kind='bar', color='lightseagreen', edgecolor='black')\n",
        "plt.title(\"Race/Ethnicity Distribution\")\n",
        "plt.xlabel(\"Race/Ethnicity\")\n",
        "plt.ylabel(\"Frequency\")\n",
        "plt.xticks(rotation=45)\n",
        "plt.show()"
      ]
    },
    {
      "cell_type": "code",
      "execution_count": null,
      "id": "ab31c142-aac6-4c60-8b08-52d88046e959",
      "metadata": {
        "id": "ab31c142-aac6-4c60-8b08-52d88046e959",
        "outputId": "6e232885-4c6e-48d9-bb9f-55bcd49ebd58"
      },
      "outputs": [
        {
          "data": {
            "text/plain": [
              "RACE_ETHNICITY\n",
              "Non-Hispanic White    3370\n",
              "Non-Hispanic Black    2555\n",
              "Other Race            1646\n",
              "Mexican American      1131\n",
              "Other Hispanic         991\n",
              "Name: count, dtype: int64"
            ]
          },
          "execution_count": 80,
          "metadata": {},
          "output_type": "execute_result"
        }
      ],
      "source": [
        "demo_new['RACE_ETHNICITY'].value_counts()"
      ]
    },
    {
      "cell_type": "code",
      "execution_count": null,
      "id": "e0842b6d-95ff-4975-887e-269f597b7d92",
      "metadata": {
        "id": "e0842b6d-95ff-4975-887e-269f597b7d92"
      },
      "outputs": [],
      "source": [
        "# Encode Country of birth\n",
        "\n",
        "demo_new['COUNTRY_BIRTH'] = demo_new['DMDBORN4'].map({\n",
        "    1: 'Born in US', 2: 'Others', 77: 'Refused', 99: 'Don\\'t Know'\n",
        "})"
      ]
    },
    {
      "cell_type": "code",
      "execution_count": null,
      "id": "c9171be0-5466-4cf7-8b96-1451468740e4",
      "metadata": {
        "id": "c9171be0-5466-4cf7-8b96-1451468740e4",
        "outputId": "fb235cad-7e6c-4321-bd04-bef440adfc50"
      },
      "outputs": [
        {
          "data": {
            "image/png": "[encoded data removed]",
            "text/plain": [
              "<Figure size 800x600 with 1 Axes>"
            ]
          },
          "metadata": {},
          "output_type": "display_data"
        }
      ],
      "source": [
        "# Count the occurrences of each country of birth category\n",
        "country_birth_counts = demo_new['COUNTRY_BIRTH'].value_counts()\n",
        "\n",
        "# Plot bar chart\n",
        "plt.figure(figsize=(8, 6))\n",
        "country_birth_counts.plot(kind='bar', color='salmon', edgecolor='black')\n",
        "plt.title(\"Country of Birth Distribution\")\n",
        "plt.xlabel(\"Country of Birth\")\n",
        "plt.ylabel(\"Frequency\")\n",
        "plt.xticks(rotation=45)\n",
        "plt.show()"
      ]
    },
    {
      "cell_type": "code",
      "execution_count": null,
      "id": "fa1e9701-3dd8-46b3-a19e-c9fe8e9af69e",
      "metadata": {
        "id": "fa1e9701-3dd8-46b3-a19e-c9fe8e9af69e",
        "outputId": "2bcc62ce-1ebe-41c3-eb69-e619789cf0af"
      },
      "outputs": [
        {
          "data": {
            "text/plain": [
              "COUNTRY_BIRTH\n",
              "Born in US    6949\n",
              "Others        2739\n",
              "Refused          4\n",
              "Don't Know       1\n",
              "Name: count, dtype: int64"
            ]
          },
          "execution_count": 83,
          "metadata": {},
          "output_type": "execute_result"
        }
      ],
      "source": [
        "demo_new['COUNTRY_BIRTH'].value_counts()"
      ]
    },
    {
      "cell_type": "code",
      "execution_count": null,
      "id": "daee501c-1735-494d-84f1-a2844d2836b5",
      "metadata": {
        "id": "daee501c-1735-494d-84f1-a2844d2836b5"
      },
      "outputs": [],
      "source": [
        "#length of time in US\n",
        "#demo_new['YEARS_IN_US'] = demo_new['DMDYRUSZ'].map({\n",
        "   #1: 'Less than 5 years',2: '5 years or more, but less than 15 years',3: '15 years or more, but less than 30 years',\n",
        "    #4: '30 years or more', 77: 'Refused', 99: 'Don\\'t Know'\n",
        "#})\n",
        "\n",
        ""
      ]
    },
    {
      "cell_type": "code",
      "execution_count": null,
      "id": "2db29a0d-eec0-4efb-8316-ef94e41c9ebb",
      "metadata": {
        "id": "2db29a0d-eec0-4efb-8316-ef94e41c9ebb"
      },
      "outputs": [],
      "source": [
        "# Count the occurrences of each time category\n",
        "#years_in_us_counts = demo_new['YEARS_IN_US'].value_counts()\n",
        "\n",
        "# Plot bar chart\n",
        "#plt.figure(figsize=(10, 6))\n",
        "#years_in_us_counts.plot(kind='bar', color='cornflowerblue', edgecolor='black')\n",
        "#plt.title(\"Length of Time in the U.S. Distribution\")\n",
        "#plt.xlabel(\"Length of Time in U.S.\")\n",
        "#plt.ylabel(\"Frequency\")\n",
        "#plt.xticks(rotation=45)\n",
        "#plt.show()"
      ]
    },
    {
      "cell_type": "code",
      "execution_count": null,
      "id": "86f618a6-c705-4df4-8225-fc6a454732ec",
      "metadata": {
        "id": "86f618a6-c705-4df4-8225-fc6a454732ec"
      },
      "outputs": [],
      "source": [
        "#demo_new['YEARS_IN_US'].value_counts()"
      ]
    },
    {
      "cell_type": "code",
      "execution_count": null,
      "id": "416f579e-4eed-4fca-8452-08b320f12c5d",
      "metadata": {
        "id": "416f579e-4eed-4fca-8452-08b320f12c5d"
      },
      "outputs": [],
      "source": [
        "# Encode Education Level\n",
        "demo_new['EDUCATION'] = demo_new['DMDEDUC2'].map({\n",
        "    1: 'Less than 9th grade', 2: '9-11th grade', 3: 'High school graduate',\n",
        "    4: 'Some college or AA degree', 5: 'College graduate or above' ,77: 'Refused', 99: 'Don\\'t Know'\n",
        "})"
      ]
    },
    {
      "cell_type": "code",
      "execution_count": null,
      "id": "9a1023f8-41ce-46bb-a6f4-e6f920a02b41",
      "metadata": {
        "id": "9a1023f8-41ce-46bb-a6f4-e6f920a02b41",
        "outputId": "19d3c9d4-b838-4bd7-ba4f-72e3f6c7b197"
      },
      "outputs": [
        {
          "data": {
            "image/png": "[encoded data removed]",
            "text/plain": [
              "<Figure size 1000x600 with 1 Axes>"
            ]
          },
          "metadata": {},
          "output_type": "display_data"
        }
      ],
      "source": [
        "# Count the occurrences of each education level\n",
        "education_counts = demo_new['EDUCATION'].value_counts()\n",
        "\n",
        "# Plot bar chart\n",
        "plt.figure(figsize=(10, 6))\n",
        "education_counts.plot(kind='bar', color='lightgreen', edgecolor='black')\n",
        "plt.title(\"Education Level Distribution\")\n",
        "plt.xlabel(\"Education Level\")\n",
        "plt.ylabel(\"Frequency\")\n",
        "plt.xticks(rotation=45)\n",
        "plt.show()"
      ]
    },
    {
      "cell_type": "code",
      "execution_count": null,
      "id": "dc571715-7e42-469e-ae9b-ad45eea0dd7e",
      "metadata": {
        "id": "dc571715-7e42-469e-ae9b-ad45eea0dd7e",
        "outputId": "cdfbdb31-537e-4a3f-a583-ab0a2d4b230d"
      },
      "outputs": [
        {
          "data": {
            "text/plain": [
              "EDUCATION\n",
              "Some college or AA degree    3436\n",
              "College graduate or above    2257\n",
              "High school graduate         2225\n",
              "9-11th grade                 1041\n",
              "Less than 9th grade           719\n",
              "Name: count, dtype: int64"
            ]
          },
          "execution_count": 89,
          "metadata": {},
          "output_type": "execute_result"
        }
      ],
      "source": [
        "demo_new['EDUCATION'].value_counts()"
      ]
    },
    {
      "cell_type": "code",
      "execution_count": null,
      "id": "5c314972-bde1-4cf4-8c96-2ec255580d41",
      "metadata": {
        "id": "5c314972-bde1-4cf4-8c96-2ec255580d41"
      },
      "outputs": [],
      "source": [
        "demo_new['MARITAL_STATUS'] = demo_new['DMDMARTZ'].map({\n",
        "    1: 'Married/Living with Partner', 2: 'Widowed/Divorced/Separated', 3: 'Never married',77: 'Refused', 99: 'Don\\'t Know'\n",
        "})"
      ]
    },
    {
      "cell_type": "code",
      "execution_count": null,
      "id": "6bda63d8-72af-486a-a025-b0f964b28cbb",
      "metadata": {
        "id": "6bda63d8-72af-486a-a025-b0f964b28cbb",
        "outputId": "7b7b3542-483b-42c3-f4aa-66c23351c1ed"
      },
      "outputs": [
        {
          "data": {
            "image/png": "[encoded data removed]",
            "text/plain": [
              "<Figure size 1000x600 with 1 Axes>"
            ]
          },
          "metadata": {},
          "output_type": "display_data"
        }
      ],
      "source": [
        "# Count the occurrences of each marital status category\n",
        "marital_status_counts = demo_new['MARITAL_STATUS'].value_counts()\n",
        "\n",
        "# Plot bar chart\n",
        "plt.figure(figsize=(10, 6))\n",
        "marital_status_counts.plot(kind='bar', color='lightblue', edgecolor='black')\n",
        "plt.title(\"Marital Status Distribution\")\n",
        "plt.xlabel(\"Marital Status\")\n",
        "plt.ylabel(\"Frequency\")\n",
        "plt.xticks(rotation=45)\n",
        "plt.show()"
      ]
    },
    {
      "cell_type": "code",
      "execution_count": null,
      "id": "8da1b3ca-499c-490a-be1a-3b6c2575d190",
      "metadata": {
        "id": "8da1b3ca-499c-490a-be1a-3b6c2575d190",
        "outputId": "32020a54-4fe5-493d-fca7-4fdb3b7af392"
      },
      "outputs": [
        {
          "data": {
            "text/plain": [
              "MARITAL_STATUS\n",
              "Married/Living with Partner    5740\n",
              "Widowed/Divorced/Separated     2148\n",
              "Never married                  1795\n",
              "Refused                           8\n",
              "Don't Know                        2\n",
              "Name: count, dtype: int64"
            ]
          },
          "execution_count": 92,
          "metadata": {},
          "output_type": "execute_result"
        }
      ],
      "source": [
        " demo_new['MARITAL_STATUS'].value_counts()"
      ]
    },
    {
      "cell_type": "code",
      "execution_count": null,
      "id": "7333301e-5751-4d89-97b4-7c6d63c5466c",
      "metadata": {
        "id": "7333301e-5751-4d89-97b4-7c6d63c5466c"
      },
      "outputs": [],
      "source": [
        "#pregnancy status\n",
        "#demo_new['PREGNANCY_STATUS'] = demo_new['RIDEXPRG'].map({\n",
        "    #1: 'Pregnant', 2: 'Not Pregnant', 3: 'Cannot ascertain'\n",
        "#})"
      ]
    },
    {
      "cell_type": "code",
      "execution_count": null,
      "id": "cb08927c-dd91-4fdb-9995-afa1e2dbd6b6",
      "metadata": {
        "id": "cb08927c-dd91-4fdb-9995-afa1e2dbd6b6"
      },
      "outputs": [],
      "source": [
        "# Count the occurrences of each pregnancy status category\n",
        "#pregnancy_status_counts = demo_new['PREGNANCY_STATUS'].value_counts()\n",
        "\n",
        "# Plot bar chart\n",
        "#plt.figure(figsize=(8, 6))\n",
        "#pregnancy_status_counts.plot(kind='bar', color='lightpink', edgecolor='black')\n",
        "#plt.title(\"Pregnancy Status Distribution\")\n",
        "#plt.xlabel(\"Pregnancy Status\")\n",
        "#plt.ylabel(\"Frequency\")\n",
        "#plt.xticks(rotation=0)\n",
        "#plt.show()"
      ]
    },
    {
      "cell_type": "code",
      "execution_count": null,
      "id": "0d77eeb7-0717-4c94-8ffd-028f770227b6",
      "metadata": {
        "id": "0d77eeb7-0717-4c94-8ffd-028f770227b6"
      },
      "outputs": [],
      "source": [
        " #demo_new['PREGNANCY_STATUS'].value_counts()"
      ]
    },
    {
      "cell_type": "code",
      "execution_count": null,
      "id": "97dad1b2-fd10-47e4-8790-12588037a139",
      "metadata": {
        "id": "97dad1b2-fd10-47e4-8790-12588037a139",
        "outputId": "4f723b0e-7512-4a7a-8d14-968d6379fd0b"
      },
      "outputs": [
        {
          "data": {
            "image/png": "[encoded data removed]",
            "text/plain": [
              "<Figure size 800x600 with 1 Axes>"
            ]
          },
          "metadata": {},
          "output_type": "display_data"
        },
        {
          "name": "stdout",
          "output_type": "stream",
          "text": [
            "Income Group Counts:\n",
            "INCOME_GROUP\n",
            "Medium    4370\n",
            "Low       3818\n",
            "High      1505\n",
            "Name: count, dtype: int64\n"
          ]
        }
      ],
      "source": [
        "# Define thresholds for classification\n",
        "def classify_income_to_poverty(ratio):\n",
        "    if ratio < 2:  # Families below 2x the poverty line\n",
        "        return 'Low'\n",
        "    elif 2 <= ratio < 5:  # Families 2x to 5x the poverty line\n",
        "        return 'Medium'\n",
        "    else:  # Families 5x or above the poverty line\n",
        "        return 'High'\n",
        "\n",
        "# Apply classification\n",
        "demo_new['INCOME_GROUP'] = demo_new['INDFMPIR'].apply(classify_income_to_poverty)\n",
        "\n",
        "# Summary statistics\n",
        "classification_counts = demo_new['INCOME_GROUP'].value_counts()\n",
        "\n",
        "\n",
        "# Plot bar chart\n",
        "plt.figure(figsize=(8, 6))\n",
        "classification_counts.plot(kind='bar', color='steelblue', edgecolor='black')\n",
        "plt.title(\"Income to Poverty Ratio Classification\")\n",
        "plt.xlabel(\"Income Group\")\n",
        "plt.ylabel(\"Frequency\")\n",
        "plt.xticks(rotation=0)\n",
        "plt.show()\n",
        "\n",
        "# Display classification counts\n",
        "print(\"Income Group Counts:\")\n",
        "print(classification_counts)\n",
        "\n"
      ]
    },
    {
      "cell_type": "code",
      "execution_count": null,
      "id": "c6b8822a-8186-458b-9975-71490e26d6e5",
      "metadata": {
        "id": "c6b8822a-8186-458b-9975-71490e26d6e5",
        "outputId": "76a2f46c-f39a-4e06-db83-a151057a66f4"
      },
      "outputs": [
        {
          "data": {
            "text/html": [
              "<div>\n",
              "<style scoped>\n",
              "    .dataframe tbody tr th:only-of-type {\n",
              "        vertical-align: middle;\n",
              "    }\n",
              "\n",
              "    .dataframe tbody tr th {\n",
              "        vertical-align: top;\n",
              "    }\n",
              "\n",
              "    .dataframe thead th {\n",
              "        text-align: right;\n",
              "    }\n",
              "</style>\n",
              "<table border=\"1\" class=\"dataframe\">\n",
              "  <thead>\n",
              "    <tr style=\"text-align: right;\">\n",
              "      <th></th>\n",
              "      <th>RIAGENDR</th>\n",
              "      <th>RIDAGEYR</th>\n",
              "      <th>RIDRETH1</th>\n",
              "      <th>DMDBORN4</th>\n",
              "      <th>DMDEDUC2</th>\n",
              "      <th>DMDMARTZ</th>\n",
              "      <th>INDFMPIR</th>\n",
              "      <th>GENDER</th>\n",
              "      <th>age_group</th>\n",
              "      <th>RACE_ETHNICITY</th>\n",
              "      <th>COUNTRY_BIRTH</th>\n",
              "      <th>EDUCATION</th>\n",
              "      <th>MARITAL_STATUS</th>\n",
              "      <th>INCOME_GROUP</th>\n",
              "    </tr>\n",
              "  </thead>\n",
              "  <tbody>\n",
              "    <tr>\n",
              "      <th>3</th>\n",
              "      <td>2</td>\n",
              "      <td>29.0</td>\n",
              "      <td>5</td>\n",
              "      <td>2</td>\n",
              "      <td>5.0</td>\n",
              "      <td>3.0</td>\n",
              "      <td>5.000000</td>\n",
              "      <td>Female</td>\n",
              "      <td>18-39</td>\n",
              "      <td>Other Race</td>\n",
              "      <td>Others</td>\n",
              "      <td>College graduate or above</td>\n",
              "      <td>Never married</td>\n",
              "      <td>High</td>\n",
              "    </tr>\n",
              "    <tr>\n",
              "      <th>4</th>\n",
              "      <td>2</td>\n",
              "      <td>21.0</td>\n",
              "      <td>2</td>\n",
              "      <td>2</td>\n",
              "      <td>4.0</td>\n",
              "      <td>3.0</td>\n",
              "      <td>5.000000</td>\n",
              "      <td>Female</td>\n",
              "      <td>18-39</td>\n",
              "      <td>Other Hispanic</td>\n",
              "      <td>Others</td>\n",
              "      <td>Some college or AA degree</td>\n",
              "      <td>Never married</td>\n",
              "      <td>High</td>\n",
              "    </tr>\n",
              "    <tr>\n",
              "      <th>5</th>\n",
              "      <td>2</td>\n",
              "      <td>18.0</td>\n",
              "      <td>3</td>\n",
              "      <td>1</td>\n",
              "      <td>4.0</td>\n",
              "      <td>1.0</td>\n",
              "      <td>1.660000</td>\n",
              "      <td>Female</td>\n",
              "      <td>NaN</td>\n",
              "      <td>Non-Hispanic White</td>\n",
              "      <td>Born in US</td>\n",
              "      <td>Some college or AA degree</td>\n",
              "      <td>Married/Living with Partner</td>\n",
              "      <td>Low</td>\n",
              "    </tr>\n",
              "    <tr>\n",
              "      <th>8</th>\n",
              "      <td>1</td>\n",
              "      <td>49.0</td>\n",
              "      <td>3</td>\n",
              "      <td>1</td>\n",
              "      <td>2.0</td>\n",
              "      <td>3.0</td>\n",
              "      <td>2.567789</td>\n",
              "      <td>Male</td>\n",
              "      <td>40-59</td>\n",
              "      <td>Non-Hispanic White</td>\n",
              "      <td>Born in US</td>\n",
              "      <td>9-11th grade</td>\n",
              "      <td>Never married</td>\n",
              "      <td>Medium</td>\n",
              "    </tr>\n",
              "    <tr>\n",
              "      <th>10</th>\n",
              "      <td>1</td>\n",
              "      <td>36.0</td>\n",
              "      <td>3</td>\n",
              "      <td>1</td>\n",
              "      <td>4.0</td>\n",
              "      <td>3.0</td>\n",
              "      <td>0.830000</td>\n",
              "      <td>Male</td>\n",
              "      <td>18-39</td>\n",
              "      <td>Non-Hispanic White</td>\n",
              "      <td>Born in US</td>\n",
              "      <td>Some college or AA degree</td>\n",
              "      <td>Never married</td>\n",
              "      <td>Low</td>\n",
              "    </tr>\n",
              "  </tbody>\n",
              "</table>\n",
              "</div>"
            ],
            "text/plain": [
              "    RIAGENDR  RIDAGEYR  RIDRETH1  DMDBORN4  DMDEDUC2  DMDMARTZ  INDFMPIR  \\\n",
              "3          2      29.0         5         2       5.0       3.0  5.000000   \n",
              "4          2      21.0         2         2       4.0       3.0  5.000000   \n",
              "5          2      18.0         3         1       4.0       1.0  1.660000   \n",
              "8          1      49.0         3         1       2.0       3.0  2.567789   \n",
              "10         1      36.0         3         1       4.0       3.0  0.830000   \n",
              "\n",
              "    GENDER age_group      RACE_ETHNICITY COUNTRY_BIRTH  \\\n",
              "3   Female     18-39          Other Race        Others   \n",
              "4   Female     18-39      Other Hispanic        Others   \n",
              "5   Female       NaN  Non-Hispanic White    Born in US   \n",
              "8     Male     40-59  Non-Hispanic White    Born in US   \n",
              "10    Male     18-39  Non-Hispanic White    Born in US   \n",
              "\n",
              "                    EDUCATION               MARITAL_STATUS INCOME_GROUP  \n",
              "3   College graduate or above                Never married         High  \n",
              "4   Some college or AA degree                Never married         High  \n",
              "5   Some college or AA degree  Married/Living with Partner          Low  \n",
              "8                9-11th grade                Never married       Medium  \n",
              "10  Some college or AA degree                Never married          Low  "
            ]
          },
          "execution_count": 97,
          "metadata": {},
          "output_type": "execute_result"
        }
      ],
      "source": [
        "demo_new.head()\n"
      ]
    },
    {
      "cell_type": "code",
      "execution_count": null,
      "id": "c0e40d48-d55a-4acf-92bc-117f5d20b35c",
      "metadata": {
        "id": "c0e40d48-d55a-4acf-92bc-117f5d20b35c",
        "outputId": "4704ef81-6aaf-4b47-ab7a-1f6e21a19475"
      },
      "outputs": [
        {
          "data": {
            "text/plain": [
              "Index(['RIAGENDR', 'RIDAGEYR', 'RIDRETH1', 'DMDBORN4', 'DMDEDUC2', 'DMDMARTZ',\n",
              "       'INDFMPIR', 'GENDER', 'age_group', 'RACE_ETHNICITY', 'COUNTRY_BIRTH',\n",
              "       'EDUCATION', 'MARITAL_STATUS', 'INCOME_GROUP'],\n",
              "      dtype='object')"
            ]
          },
          "execution_count": 98,
          "metadata": {},
          "output_type": "execute_result"
        }
      ],
      "source": [
        "demo_new.columns\n"
      ]
    },
    {
      "cell_type": "code",
      "execution_count": null,
      "id": "b63af671-49aa-4af1-a5ea-0f46adf6a352",
      "metadata": {
        "id": "b63af671-49aa-4af1-a5ea-0f46adf6a352"
      },
      "outputs": [],
      "source": [
        "columns=['RIAGENDR', 'RIDAGEYR', 'RIDRETH1', 'DMDBORN4','DMDEDUC2',\n",
        "       'DMDMARTZ', 'INDFMPIR']\n",
        "demo_clean=demo_new.drop(columns=columns,axis=1)"
      ]
    },
    {
      "cell_type": "code",
      "execution_count": null,
      "id": "805501bf-e328-43bc-87f0-4120120b5e13",
      "metadata": {
        "id": "805501bf-e328-43bc-87f0-4120120b5e13",
        "outputId": "5a9d1aa4-d278-4a03-e0e7-f70eaa32b55c"
      },
      "outputs": [
        {
          "data": {
            "text/html": [
              "<div>\n",
              "<style scoped>\n",
              "    .dataframe tbody tr th:only-of-type {\n",
              "        vertical-align: middle;\n",
              "    }\n",
              "\n",
              "    .dataframe tbody tr th {\n",
              "        vertical-align: top;\n",
              "    }\n",
              "\n",
              "    .dataframe thead th {\n",
              "        text-align: right;\n",
              "    }\n",
              "</style>\n",
              "<table border=\"1\" class=\"dataframe\">\n",
              "  <thead>\n",
              "    <tr style=\"text-align: right;\">\n",
              "      <th></th>\n",
              "      <th>GENDER</th>\n",
              "      <th>age_group</th>\n",
              "      <th>RACE_ETHNICITY</th>\n",
              "      <th>COUNTRY_BIRTH</th>\n",
              "      <th>EDUCATION</th>\n",
              "      <th>MARITAL_STATUS</th>\n",
              "      <th>INCOME_GROUP</th>\n",
              "    </tr>\n",
              "  </thead>\n",
              "  <tbody>\n",
              "    <tr>\n",
              "      <th>3</th>\n",
              "      <td>Female</td>\n",
              "      <td>18-39</td>\n",
              "      <td>Other Race</td>\n",
              "      <td>Others</td>\n",
              "      <td>College graduate or above</td>\n",
              "      <td>Never married</td>\n",
              "      <td>High</td>\n",
              "    </tr>\n",
              "    <tr>\n",
              "      <th>4</th>\n",
              "      <td>Female</td>\n",
              "      <td>18-39</td>\n",
              "      <td>Other Hispanic</td>\n",
              "      <td>Others</td>\n",
              "      <td>Some college or AA degree</td>\n",
              "      <td>Never married</td>\n",
              "      <td>High</td>\n",
              "    </tr>\n",
              "    <tr>\n",
              "      <th>5</th>\n",
              "      <td>Female</td>\n",
              "      <td>NaN</td>\n",
              "      <td>Non-Hispanic White</td>\n",
              "      <td>Born in US</td>\n",
              "      <td>Some college or AA degree</td>\n",
              "      <td>Married/Living with Partner</td>\n",
              "      <td>Low</td>\n",
              "    </tr>\n",
              "    <tr>\n",
              "      <th>8</th>\n",
              "      <td>Male</td>\n",
              "      <td>40-59</td>\n",
              "      <td>Non-Hispanic White</td>\n",
              "      <td>Born in US</td>\n",
              "      <td>9-11th grade</td>\n",
              "      <td>Never married</td>\n",
              "      <td>Medium</td>\n",
              "    </tr>\n",
              "    <tr>\n",
              "      <th>10</th>\n",
              "      <td>Male</td>\n",
              "      <td>18-39</td>\n",
              "      <td>Non-Hispanic White</td>\n",
              "      <td>Born in US</td>\n",
              "      <td>Some college or AA degree</td>\n",
              "      <td>Never married</td>\n",
              "      <td>Low</td>\n",
              "    </tr>\n",
              "  </tbody>\n",
              "</table>\n",
              "</div>"
            ],
            "text/plain": [
              "    GENDER age_group      RACE_ETHNICITY COUNTRY_BIRTH  \\\n",
              "3   Female     18-39          Other Race        Others   \n",
              "4   Female     18-39      Other Hispanic        Others   \n",
              "5   Female       NaN  Non-Hispanic White    Born in US   \n",
              "8     Male     40-59  Non-Hispanic White    Born in US   \n",
              "10    Male     18-39  Non-Hispanic White    Born in US   \n",
              "\n",
              "                    EDUCATION               MARITAL_STATUS INCOME_GROUP  \n",
              "3   College graduate or above                Never married         High  \n",
              "4   Some college or AA degree                Never married         High  \n",
              "5   Some college or AA degree  Married/Living with Partner          Low  \n",
              "8                9-11th grade                Never married       Medium  \n",
              "10  Some college or AA degree                Never married          Low  "
            ]
          },
          "execution_count": 102,
          "metadata": {},
          "output_type": "execute_result"
        }
      ],
      "source": [
        "demo_clean.head()"
      ]
    }
  ],
  "metadata": {
    "kernelspec": {
      "display_name": "Python 3 (ipykernel)",
      "language": "python",
      "name": "python3"
    },
    "language_info": {
      "codemirror_mode": {
        "name": "ipython",
        "version": 3
      },
      "file_extension": ".py",
      "mimetype": "text/x-python",
      "name": "python",
      "nbconvert_exporter": "python",
      "pygments_lexer": "ipython3",
      "version": "3.12.4"
    },
    "colab": {
      "provenance": [],
      "include_colab_link": true
    }
  },
  "nbformat": 4,
  "nbformat_minor": 5
}